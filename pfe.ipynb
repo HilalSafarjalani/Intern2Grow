{
  "nbformat": 4,
  "nbformat_minor": 0,
  "metadata": {
    "colab": {
      "provenance": [],
      "gpuType": "T4",
      "authorship_tag": "ABX9TyMCislSluT8owMn6MX6Q5ml",
      "include_colab_link": true
    },
    "kernelspec": {
      "name": "python3",
      "display_name": "Python 3"
    },
    "language_info": {
      "name": "python"
    },
    "accelerator": "GPU"
  },
  "cells": [
    {
      "cell_type": "markdown",
      "metadata": {
        "id": "view-in-github",
        "colab_type": "text"
      },
      "source": [
        "<a href=\"https://colab.research.google.com/github/HilalSafarjalani/Intern2Grow/blob/main/pfe.ipynb\" target=\"_parent\"><img src=\"https://colab.research.google.com/assets/colab-badge.svg\" alt=\"Open In Colab\"/></a>"
      ]
    },
    {
      "cell_type": "code",
      "execution_count": 1,
      "metadata": {
        "colab": {
          "base_uri": "https://localhost:8080/"
        },
        "id": "ALOG8gM475Xf",
        "outputId": "220c847c-5e29-4c42-91ba-aef07d4b334b"
      },
      "outputs": [
        {
          "output_type": "stream",
          "name": "stdout",
          "text": [
            "Cloning into 'D2GV'...\n",
            "remote: Enumerating objects: 1966, done.\u001b[K\n",
            "remote: Counting objects: 100% (100/100), done.\u001b[K\n",
            "remote: Compressing objects: 100% (77/77), done.\u001b[K\n",
            "remote: Total 1966 (delta 54), reused 31 (delta 20), pack-reused 1866 (from 3)\u001b[K\n",
            "Receiving objects: 100% (1966/1966), 266.13 MiB | 41.91 MiB/s, done.\n",
            "Resolving deltas: 100% (992/992), done.\n",
            "Updating files: 100% (1754/1754), done.\n"
          ]
        }
      ],
      "source": [
        "!git clone https://github.com/Evan-sudo/D2GV.git\n"
      ]
    },
    {
      "cell_type": "code",
      "source": [
        "%cd D2GV"
      ],
      "metadata": {
        "colab": {
          "base_uri": "https://localhost:8080/"
        },
        "id": "QsNQv9CC8MMw",
        "outputId": "55952f8c-86f3-4843-d987-5785563df31f"
      },
      "execution_count": 3,
      "outputs": [
        {
          "output_type": "stream",
          "name": "stdout",
          "text": [
            "/content/D2GV\n"
          ]
        }
      ]
    },
    {
      "cell_type": "code",
      "source": [
        "ls"
      ],
      "metadata": {
        "colab": {
          "base_uri": "https://localhost:8080/"
        },
        "id": "z8lOPDDD8bzn",
        "outputId": "656efc80-4ecd-422a-d330-ad9840c059cd"
      },
      "execution_count": 4,
      "outputs": [
        {
          "output_type": "stream",
          "name": "stdout",
          "text": [
            "\u001b[0m\u001b[01;34mcheckpoints\u001b[0m/    deform_model.py            \u001b[01;34mimg\u001b[0m/          README.md        train_prune.py\n",
            "\u001b[01;34mdataset\u001b[0m/        gaussianimage_cholesky.py  optimizer.py  \u001b[01;34mscripts\u001b[0m/         utils.py\n",
            "deformation.py  \u001b[01;34mgsplat\u001b[0m/                    \u001b[01;34m__pycache__\u001b[0m/  train_deform.py\n"
          ]
        }
      ]
    },
    {
      "cell_type": "code",
      "source": [
        "!cat README.md\n"
      ],
      "metadata": {
        "colab": {
          "base_uri": "https://localhost:8080/"
        },
        "id": "eO_0hmbm8j8G",
        "outputId": "f033e554-7321-4150-f4e6-f6ebf959f2e7"
      },
      "execution_count": 5,
      "outputs": [
        {
          "output_type": "stream",
          "name": "stdout",
          "text": [
            "# **Deformable 2D Gaussian Splatting for Video Representation at 400FPS**\n",
            "Note: This repo is still under development.\n",
            "[Arxiv paper](https://arxiv.org/abs/2503.05600)\n",
            "\n",
            "![Our method achieves high-quality rendering with fast convergence and rendering speed. It delivers competitive results within just 2 minutes of training for a single group of pictures (GoP). For a fair comparison, we aggregate the total training time across all GoPs, as shown on the right, which still offers faster convergence compared to INRs. The circle size indicates the decoding FPS.](./img/overview.png)\n",
            "\n",
            "We propose a novel video representation based on deformable 2D Gaussian splatting, dubbed D2GV, which aims to achieve three key objectives: 1) improved efficiency while delivering superior quality; 2) enhanced scalability and interpretability; and 3) increased friendliness for downstream tasks. Specifically, we initially divide the video sequence into fixed-length Groups of Pictures (GoP) to allow parallel training and linear scalability with video length. For each GoP, D2GV represents video frames by applying differentiable rasterization to 2D Gaussians, which are deformed from a canonical space into their corresponding timestamps. Notably, leveraging efficient CUDA-based rasterization, D2GV converges fast and decodes at speeds exceeding 400 FPS, while delivering quality that matches or surpasses state-of-the-art INRs. \n",
            "\n",
            "## **Requirements**\n",
            "\n",
            "Before running the code, install the required dependencies:\n",
            "\n",
            "```\n",
            "cd gsplat\n",
            "pip install .[dev]\n",
            "cd ../\n",
            "pip install -r requirements.txt\n",
            "```\n",
            "\n",
            "The `gsplat` module is implemented based on [GaussianImage](https://github.com/Xinjie-Q/GaussianImage). Please ensure it is correctly installed before proceeding.\n",
            "\n",
            "## **Dataset**\n",
            "Before running the experiments, you need to download the **UVG** and **Davis** datasets.  \n",
            "Ensure that the dataset is structured correctly:\n",
            "\n",
            "```\n",
            "dataset/\n",
            "│── Bunny/\n",
            "│   ├── bunny_1/\n",
            "│   │   ├── f00001.png\n",
            "│   │   ├── f00002.png\n",
            "│   │   ├── f00003.png\n",
            "│   │   ├── ...\n",
            "│   ├── bunny_2/\n",
            "│   │   ├── f00001.png\n",
            "│   │   ├── f00002.png\n",
            "│   │   ├── f00003.png\n",
            "│── UVG/\n",
            "```\n",
            "\n",
            "- **UVG dataset**: Download from [UVG Dataset](https://ultravideo.fi/dataset.html)\n",
            "\n",
            "After downloading, place the dataset inside the `datasets/` directory before proceeding with training or evaluation.\n",
            "A helper script for segmenting fixed-length GoPs can be found in /scripts/segment.py.\n",
            "\n",
            "## **Startup**\n",
            "Note: Run the following to grant the permission:\n",
            "```\n",
            "chmod +x ./scripts/D2GV/train.sh\n",
            "```\n",
            "To run **Deformed 2D Gaussian Splatting (2DGS)**, execute the following command:\n",
            "\n",
            "```\n",
            "sh ./scripts/D2GV/train.sh /path/to/your/dataset\n",
            "```\n",
            "\n",
            "To run **Deformed 2D Gaussian Splatting (2DGS)** with learnable pruning, execute the following command:\n",
            "\n",
            "```\n",
            "sh ./scripts/D2GV/Comp.sh /path/to/your/dataset\n",
            "```\n",
            "\n",
            "Make sure to replace `/path/to/your/dataset` with the actual dataset path.\n",
            "\n",
            "e.g. :\n",
            "\n",
            "```\n",
            "./scripts/D2GV/train.sh ../D2GV/dataset/bunny/bunny_1\n",
            "```\n",
            "\n",
            "For bunny, we set the number of Gaussians to be 20000 while for Davis and UVG we set it as 35000.\n",
            "\n",
            "## **Visual Quality Comparison**\n",
            "\n",
            "![Our method achieves best quality compared to competitive INR-based and GS-based methods.](./img/vis.png)\n",
            "\n",
            "Some source code of ours is borrowed from [GaussianImage](https://github.com/Xinjie-Q/GaussianImage) and [D-3DGS](https://github.com/ingra14m/Deformable-3D-Gaussians). We sincerely appreciate the excellent works of these authors.\n",
            "## **Citation**\n",
            "If you find our work helpful to your research, please kindly cite our paper:\n",
            "```\n",
            "@article{liu2025d2gv,\n",
            "  title={D2GV: Deformable 2D Gaussian Splatting for Video Representation in 400FPS},\n",
            "  author={Liu, Mufan and Yang, Qi and Zhao, Miaoran and Huang, He and Yang, Le and Li, Zhu and Xu, Yiling},\n",
            "  journal={arXiv preprint arXiv:2503.05600},\n",
            "  year={2025}\n",
            "}\n",
            "```\n"
          ]
        }
      ]
    },
    {
      "cell_type": "code",
      "source": [
        "!ls D2GV\n",
        "\n"
      ],
      "metadata": {
        "colab": {
          "base_uri": "https://localhost:8080/"
        },
        "id": "EcychV-4-NlJ",
        "outputId": "0e00bd73-67ec-4750-b9a8-0103ade3a32e"
      },
      "execution_count": 7,
      "outputs": [
        {
          "output_type": "stream",
          "name": "stdout",
          "text": [
            "checkpoints\tdeform_model.py\t\t   img\t\t README.md\t  train_prune.py\n",
            "dataset\t\tgaussianimage_cholesky.py  optimizer.py  scripts\t  utils.py\n",
            "deformation.py\tgsplat\t\t\t   __pycache__\t train_deform.py\n"
          ]
        }
      ]
    },
    {
      "cell_type": "code",
      "source": [
        "%cd D2GV/gsplat\n"
      ],
      "metadata": {
        "colab": {
          "base_uri": "https://localhost:8080/"
        },
        "id": "IoeVKOYa-Yo1",
        "outputId": "ccbd4851-82ad-400c-8c4a-1c47d1b91952"
      },
      "execution_count": 8,
      "outputs": [
        {
          "output_type": "stream",
          "name": "stdout",
          "text": [
            "/content/D2GV/gsplat\n"
          ]
        }
      ]
    },
    {
      "cell_type": "code",
      "source": [
        "!pip install -e .  # This installs the package in \"editable\" mode\n"
      ],
      "metadata": {
        "colab": {
          "base_uri": "https://localhost:8080/"
        },
        "id": "_PS2kjvG-t15",
        "outputId": "7351fed4-263d-4fab-9552-e0a726a9d653"
      },
      "execution_count": 9,
      "outputs": [
        {
          "output_type": "stream",
          "name": "stdout",
          "text": [
            "Obtaining file:///content/D2GV/gsplat\n",
            "  Preparing metadata (setup.py) ... \u001b[?25l\u001b[?25hdone\n",
            "Collecting jaxtyping (from gsplat==0.1.3)\n",
            "  Downloading jaxtyping-0.3.0-py3-none-any.whl.metadata (7.0 kB)\n",
            "Requirement already satisfied: rich>=12 in /usr/local/lib/python3.11/dist-packages (from gsplat==0.1.3) (13.9.4)\n",
            "Requirement already satisfied: torch in /usr/local/lib/python3.11/dist-packages (from gsplat==0.1.3) (2.6.0+cu124)\n",
            "Requirement already satisfied: markdown-it-py>=2.2.0 in /usr/local/lib/python3.11/dist-packages (from rich>=12->gsplat==0.1.3) (3.0.0)\n",
            "Requirement already satisfied: pygments<3.0.0,>=2.13.0 in /usr/local/lib/python3.11/dist-packages (from rich>=12->gsplat==0.1.3) (2.18.0)\n",
            "Collecting wadler-lindig>=0.1.3 (from jaxtyping->gsplat==0.1.3)\n",
            "  Downloading wadler_lindig-0.1.4-py3-none-any.whl.metadata (17 kB)\n",
            "Requirement already satisfied: filelock in /usr/local/lib/python3.11/dist-packages (from torch->gsplat==0.1.3) (3.18.0)\n",
            "Requirement already satisfied: typing-extensions>=4.10.0 in /usr/local/lib/python3.11/dist-packages (from torch->gsplat==0.1.3) (4.12.2)\n",
            "Requirement already satisfied: networkx in /usr/local/lib/python3.11/dist-packages (from torch->gsplat==0.1.3) (3.4.2)\n",
            "Requirement already satisfied: jinja2 in /usr/local/lib/python3.11/dist-packages (from torch->gsplat==0.1.3) (3.1.6)\n",
            "Requirement already satisfied: fsspec in /usr/local/lib/python3.11/dist-packages (from torch->gsplat==0.1.3) (2025.3.0)\n",
            "Collecting nvidia-cuda-nvrtc-cu12==12.4.127 (from torch->gsplat==0.1.3)\n",
            "  Downloading nvidia_cuda_nvrtc_cu12-12.4.127-py3-none-manylinux2014_x86_64.whl.metadata (1.5 kB)\n",
            "Collecting nvidia-cuda-runtime-cu12==12.4.127 (from torch->gsplat==0.1.3)\n",
            "  Downloading nvidia_cuda_runtime_cu12-12.4.127-py3-none-manylinux2014_x86_64.whl.metadata (1.5 kB)\n",
            "Collecting nvidia-cuda-cupti-cu12==12.4.127 (from torch->gsplat==0.1.3)\n",
            "  Downloading nvidia_cuda_cupti_cu12-12.4.127-py3-none-manylinux2014_x86_64.whl.metadata (1.6 kB)\n",
            "Collecting nvidia-cudnn-cu12==9.1.0.70 (from torch->gsplat==0.1.3)\n",
            "  Downloading nvidia_cudnn_cu12-9.1.0.70-py3-none-manylinux2014_x86_64.whl.metadata (1.6 kB)\n",
            "Collecting nvidia-cublas-cu12==12.4.5.8 (from torch->gsplat==0.1.3)\n",
            "  Downloading nvidia_cublas_cu12-12.4.5.8-py3-none-manylinux2014_x86_64.whl.metadata (1.5 kB)\n",
            "Collecting nvidia-cufft-cu12==11.2.1.3 (from torch->gsplat==0.1.3)\n",
            "  Downloading nvidia_cufft_cu12-11.2.1.3-py3-none-manylinux2014_x86_64.whl.metadata (1.5 kB)\n",
            "Collecting nvidia-curand-cu12==10.3.5.147 (from torch->gsplat==0.1.3)\n",
            "  Downloading nvidia_curand_cu12-10.3.5.147-py3-none-manylinux2014_x86_64.whl.metadata (1.5 kB)\n",
            "Collecting nvidia-cusolver-cu12==11.6.1.9 (from torch->gsplat==0.1.3)\n",
            "  Downloading nvidia_cusolver_cu12-11.6.1.9-py3-none-manylinux2014_x86_64.whl.metadata (1.6 kB)\n",
            "Collecting nvidia-cusparse-cu12==12.3.1.170 (from torch->gsplat==0.1.3)\n",
            "  Downloading nvidia_cusparse_cu12-12.3.1.170-py3-none-manylinux2014_x86_64.whl.metadata (1.6 kB)\n",
            "Requirement already satisfied: nvidia-cusparselt-cu12==0.6.2 in /usr/local/lib/python3.11/dist-packages (from torch->gsplat==0.1.3) (0.6.2)\n",
            "Requirement already satisfied: nvidia-nccl-cu12==2.21.5 in /usr/local/lib/python3.11/dist-packages (from torch->gsplat==0.1.3) (2.21.5)\n",
            "Requirement already satisfied: nvidia-nvtx-cu12==12.4.127 in /usr/local/lib/python3.11/dist-packages (from torch->gsplat==0.1.3) (12.4.127)\n",
            "Collecting nvidia-nvjitlink-cu12==12.4.127 (from torch->gsplat==0.1.3)\n",
            "  Downloading nvidia_nvjitlink_cu12-12.4.127-py3-none-manylinux2014_x86_64.whl.metadata (1.5 kB)\n",
            "Requirement already satisfied: triton==3.2.0 in /usr/local/lib/python3.11/dist-packages (from torch->gsplat==0.1.3) (3.2.0)\n",
            "Requirement already satisfied: sympy==1.13.1 in /usr/local/lib/python3.11/dist-packages (from torch->gsplat==0.1.3) (1.13.1)\n",
            "Requirement already satisfied: mpmath<1.4,>=1.1.0 in /usr/local/lib/python3.11/dist-packages (from sympy==1.13.1->torch->gsplat==0.1.3) (1.3.0)\n",
            "Requirement already satisfied: mdurl~=0.1 in /usr/local/lib/python3.11/dist-packages (from markdown-it-py>=2.2.0->rich>=12->gsplat==0.1.3) (0.1.2)\n",
            "Requirement already satisfied: MarkupSafe>=2.0 in /usr/local/lib/python3.11/dist-packages (from jinja2->torch->gsplat==0.1.3) (3.0.2)\n",
            "Downloading jaxtyping-0.3.0-py3-none-any.whl (55 kB)\n",
            "\u001b[2K   \u001b[90m━━━━━━━━━━━━━━━━━━━━━━━━━━━━━━━━━━━━━━━━\u001b[0m \u001b[32m55.2/55.2 kB\u001b[0m \u001b[31m3.7 MB/s\u001b[0m eta \u001b[36m0:00:00\u001b[0m\n",
            "\u001b[?25hDownloading nvidia_cublas_cu12-12.4.5.8-py3-none-manylinux2014_x86_64.whl (363.4 MB)\n",
            "\u001b[2K   \u001b[90m━━━━━━━━━━━━━━━━━━━━━━━━━━━━━━━━━━━━━━━━\u001b[0m \u001b[32m363.4/363.4 MB\u001b[0m \u001b[31m4.0 MB/s\u001b[0m eta \u001b[36m0:00:00\u001b[0m\n",
            "\u001b[?25hDownloading nvidia_cuda_cupti_cu12-12.4.127-py3-none-manylinux2014_x86_64.whl (13.8 MB)\n",
            "\u001b[2K   \u001b[90m━━━━━━━━━━━━━━━━━━━━━━━━━━━━━━━━━━━━━━━━\u001b[0m \u001b[32m13.8/13.8 MB\u001b[0m \u001b[31m63.2 MB/s\u001b[0m eta \u001b[36m0:00:00\u001b[0m\n",
            "\u001b[?25hDownloading nvidia_cuda_nvrtc_cu12-12.4.127-py3-none-manylinux2014_x86_64.whl (24.6 MB)\n",
            "\u001b[2K   \u001b[90m━━━━━━━━━━━━━━━━━━━━━━━━━━━━━━━━━━━━━━━━\u001b[0m \u001b[32m24.6/24.6 MB\u001b[0m \u001b[31m35.2 MB/s\u001b[0m eta \u001b[36m0:00:00\u001b[0m\n",
            "\u001b[?25hDownloading nvidia_cuda_runtime_cu12-12.4.127-py3-none-manylinux2014_x86_64.whl (883 kB)\n",
            "\u001b[2K   \u001b[90m━━━━━━━━━━━━━━━━━━━━━━━━━━━━━━━━━━━━━━━━\u001b[0m \u001b[32m883.7/883.7 kB\u001b[0m \u001b[31m44.9 MB/s\u001b[0m eta \u001b[36m0:00:00\u001b[0m\n",
            "\u001b[?25hDownloading nvidia_cudnn_cu12-9.1.0.70-py3-none-manylinux2014_x86_64.whl (664.8 MB)\n",
            "\u001b[2K   \u001b[90m━━━━━━━━━━━━━━━━━━━━━━━━━━━━━━━━━━━━━━━━\u001b[0m \u001b[32m664.8/664.8 MB\u001b[0m \u001b[31m3.1 MB/s\u001b[0m eta \u001b[36m0:00:00\u001b[0m\n",
            "\u001b[?25hDownloading nvidia_cufft_cu12-11.2.1.3-py3-none-manylinux2014_x86_64.whl (211.5 MB)\n",
            "\u001b[2K   \u001b[90m━━━━━━━━━━━━━━━━━━━━━━━━━━━━━━━━━━━━━━━━\u001b[0m \u001b[32m211.5/211.5 MB\u001b[0m \u001b[31m5.8 MB/s\u001b[0m eta \u001b[36m0:00:00\u001b[0m\n",
            "\u001b[?25hDownloading nvidia_curand_cu12-10.3.5.147-py3-none-manylinux2014_x86_64.whl (56.3 MB)\n",
            "\u001b[2K   \u001b[90m━━━━━━━━━━━━━━━━━━━━━━━━━━━━━━━━━━━━━━━━\u001b[0m \u001b[32m56.3/56.3 MB\u001b[0m \u001b[31m13.4 MB/s\u001b[0m eta \u001b[36m0:00:00\u001b[0m\n",
            "\u001b[?25hDownloading nvidia_cusolver_cu12-11.6.1.9-py3-none-manylinux2014_x86_64.whl (127.9 MB)\n",
            "\u001b[2K   \u001b[90m━━━━━━━━━━━━━━━━━━━━━━━━━━━━━━━━━━━━━━━━\u001b[0m \u001b[32m127.9/127.9 MB\u001b[0m \u001b[31m7.3 MB/s\u001b[0m eta \u001b[36m0:00:00\u001b[0m\n",
            "\u001b[?25hDownloading nvidia_cusparse_cu12-12.3.1.170-py3-none-manylinux2014_x86_64.whl (207.5 MB)\n",
            "\u001b[2K   \u001b[90m━━━━━━━━━━━━━━━━━━━━━━━━━━━━━━━━━━━━━━━━\u001b[0m \u001b[32m207.5/207.5 MB\u001b[0m \u001b[31m6.3 MB/s\u001b[0m eta \u001b[36m0:00:00\u001b[0m\n",
            "\u001b[?25hDownloading nvidia_nvjitlink_cu12-12.4.127-py3-none-manylinux2014_x86_64.whl (21.1 MB)\n",
            "\u001b[2K   \u001b[90m━━━━━━━━━━━━━━━━━━━━━━━━━━━━━━━━━━━━━━━━\u001b[0m \u001b[32m21.1/21.1 MB\u001b[0m \u001b[31m78.3 MB/s\u001b[0m eta \u001b[36m0:00:00\u001b[0m\n",
            "\u001b[?25hDownloading wadler_lindig-0.1.4-py3-none-any.whl (20 kB)\n",
            "Installing collected packages: wadler-lindig, nvidia-nvjitlink-cu12, nvidia-curand-cu12, nvidia-cufft-cu12, nvidia-cuda-runtime-cu12, nvidia-cuda-nvrtc-cu12, nvidia-cuda-cupti-cu12, nvidia-cublas-cu12, nvidia-cusparse-cu12, nvidia-cudnn-cu12, jaxtyping, nvidia-cusolver-cu12, gsplat\n",
            "  Attempting uninstall: nvidia-nvjitlink-cu12\n",
            "    Found existing installation: nvidia-nvjitlink-cu12 12.5.82\n",
            "    Uninstalling nvidia-nvjitlink-cu12-12.5.82:\n",
            "      Successfully uninstalled nvidia-nvjitlink-cu12-12.5.82\n",
            "  Attempting uninstall: nvidia-curand-cu12\n",
            "    Found existing installation: nvidia-curand-cu12 10.3.6.82\n",
            "    Uninstalling nvidia-curand-cu12-10.3.6.82:\n",
            "      Successfully uninstalled nvidia-curand-cu12-10.3.6.82\n",
            "  Attempting uninstall: nvidia-cufft-cu12\n",
            "    Found existing installation: nvidia-cufft-cu12 11.2.3.61\n",
            "    Uninstalling nvidia-cufft-cu12-11.2.3.61:\n",
            "      Successfully uninstalled nvidia-cufft-cu12-11.2.3.61\n",
            "  Attempting uninstall: nvidia-cuda-runtime-cu12\n",
            "    Found existing installation: nvidia-cuda-runtime-cu12 12.5.82\n",
            "    Uninstalling nvidia-cuda-runtime-cu12-12.5.82:\n",
            "      Successfully uninstalled nvidia-cuda-runtime-cu12-12.5.82\n",
            "  Attempting uninstall: nvidia-cuda-nvrtc-cu12\n",
            "    Found existing installation: nvidia-cuda-nvrtc-cu12 12.5.82\n",
            "    Uninstalling nvidia-cuda-nvrtc-cu12-12.5.82:\n",
            "      Successfully uninstalled nvidia-cuda-nvrtc-cu12-12.5.82\n",
            "  Attempting uninstall: nvidia-cuda-cupti-cu12\n",
            "    Found existing installation: nvidia-cuda-cupti-cu12 12.5.82\n",
            "    Uninstalling nvidia-cuda-cupti-cu12-12.5.82:\n",
            "      Successfully uninstalled nvidia-cuda-cupti-cu12-12.5.82\n",
            "  Attempting uninstall: nvidia-cublas-cu12\n",
            "    Found existing installation: nvidia-cublas-cu12 12.5.3.2\n",
            "    Uninstalling nvidia-cublas-cu12-12.5.3.2:\n",
            "      Successfully uninstalled nvidia-cublas-cu12-12.5.3.2\n",
            "  Attempting uninstall: nvidia-cusparse-cu12\n",
            "    Found existing installation: nvidia-cusparse-cu12 12.5.1.3\n",
            "    Uninstalling nvidia-cusparse-cu12-12.5.1.3:\n",
            "      Successfully uninstalled nvidia-cusparse-cu12-12.5.1.3\n",
            "  Attempting uninstall: nvidia-cudnn-cu12\n",
            "    Found existing installation: nvidia-cudnn-cu12 9.3.0.75\n",
            "    Uninstalling nvidia-cudnn-cu12-9.3.0.75:\n",
            "      Successfully uninstalled nvidia-cudnn-cu12-9.3.0.75\n",
            "  Attempting uninstall: nvidia-cusolver-cu12\n",
            "    Found existing installation: nvidia-cusolver-cu12 11.6.3.83\n",
            "    Uninstalling nvidia-cusolver-cu12-11.6.3.83:\n",
            "      Successfully uninstalled nvidia-cusolver-cu12-11.6.3.83\n",
            "  Running setup.py develop for gsplat\n",
            "\n",
            "Successfully installed gsplat-0.1.3 jaxtyping-0.3.0 nvidia-cublas-cu12-12.4.5.8 nvidia-cuda-cupti-cu12-12.4.127 nvidia-cuda-nvrtc-cu12-12.4.127 nvidia-cuda-runtime-cu12-12.4.127 nvidia-cudnn-cu12-9.1.0.70 nvidia-cufft-cu12-11.2.1.3 nvidia-curand-cu12-10.3.5.147 nvidia-cusolver-cu12-11.6.1.9 nvidia-cusparse-cu12-12.3.1.170 nvidia-nvjitlink-cu12-12.4.127 wadler-lindig-0.1.4\n"
          ]
        }
      ]
    },
    {
      "cell_type": "code",
      "source": [
        "!pip install pytorch-msssim\n"
      ],
      "metadata": {
        "colab": {
          "base_uri": "https://localhost:8080/"
        },
        "id": "bTadujimBnTy",
        "outputId": "c4fa958c-ead6-423a-b665-8aaf4c7427b4"
      },
      "execution_count": 16,
      "outputs": [
        {
          "output_type": "stream",
          "name": "stdout",
          "text": [
            "Collecting pytorch-msssim\n",
            "  Downloading pytorch_msssim-1.0.0-py3-none-any.whl.metadata (8.0 kB)\n",
            "Requirement already satisfied: torch in /usr/local/lib/python3.11/dist-packages (from pytorch-msssim) (2.6.0+cu124)\n",
            "Requirement already satisfied: filelock in /usr/local/lib/python3.11/dist-packages (from torch->pytorch-msssim) (3.18.0)\n",
            "Requirement already satisfied: typing-extensions>=4.10.0 in /usr/local/lib/python3.11/dist-packages (from torch->pytorch-msssim) (4.12.2)\n",
            "Requirement already satisfied: networkx in /usr/local/lib/python3.11/dist-packages (from torch->pytorch-msssim) (3.4.2)\n",
            "Requirement already satisfied: jinja2 in /usr/local/lib/python3.11/dist-packages (from torch->pytorch-msssim) (3.1.6)\n",
            "Requirement already satisfied: fsspec in /usr/local/lib/python3.11/dist-packages (from torch->pytorch-msssim) (2025.3.0)\n",
            "Requirement already satisfied: nvidia-cuda-nvrtc-cu12==12.4.127 in /usr/local/lib/python3.11/dist-packages (from torch->pytorch-msssim) (12.4.127)\n",
            "Requirement already satisfied: nvidia-cuda-runtime-cu12==12.4.127 in /usr/local/lib/python3.11/dist-packages (from torch->pytorch-msssim) (12.4.127)\n",
            "Requirement already satisfied: nvidia-cuda-cupti-cu12==12.4.127 in /usr/local/lib/python3.11/dist-packages (from torch->pytorch-msssim) (12.4.127)\n",
            "Requirement already satisfied: nvidia-cudnn-cu12==9.1.0.70 in /usr/local/lib/python3.11/dist-packages (from torch->pytorch-msssim) (9.1.0.70)\n",
            "Requirement already satisfied: nvidia-cublas-cu12==12.4.5.8 in /usr/local/lib/python3.11/dist-packages (from torch->pytorch-msssim) (12.4.5.8)\n",
            "Requirement already satisfied: nvidia-cufft-cu12==11.2.1.3 in /usr/local/lib/python3.11/dist-packages (from torch->pytorch-msssim) (11.2.1.3)\n",
            "Requirement already satisfied: nvidia-curand-cu12==10.3.5.147 in /usr/local/lib/python3.11/dist-packages (from torch->pytorch-msssim) (10.3.5.147)\n",
            "Requirement already satisfied: nvidia-cusolver-cu12==11.6.1.9 in /usr/local/lib/python3.11/dist-packages (from torch->pytorch-msssim) (11.6.1.9)\n",
            "Requirement already satisfied: nvidia-cusparse-cu12==12.3.1.170 in /usr/local/lib/python3.11/dist-packages (from torch->pytorch-msssim) (12.3.1.170)\n",
            "Requirement already satisfied: nvidia-cusparselt-cu12==0.6.2 in /usr/local/lib/python3.11/dist-packages (from torch->pytorch-msssim) (0.6.2)\n",
            "Requirement already satisfied: nvidia-nccl-cu12==2.21.5 in /usr/local/lib/python3.11/dist-packages (from torch->pytorch-msssim) (2.21.5)\n",
            "Requirement already satisfied: nvidia-nvtx-cu12==12.4.127 in /usr/local/lib/python3.11/dist-packages (from torch->pytorch-msssim) (12.4.127)\n",
            "Requirement already satisfied: nvidia-nvjitlink-cu12==12.4.127 in /usr/local/lib/python3.11/dist-packages (from torch->pytorch-msssim) (12.4.127)\n",
            "Requirement already satisfied: triton==3.2.0 in /usr/local/lib/python3.11/dist-packages (from torch->pytorch-msssim) (3.2.0)\n",
            "Requirement already satisfied: sympy==1.13.1 in /usr/local/lib/python3.11/dist-packages (from torch->pytorch-msssim) (1.13.1)\n",
            "Requirement already satisfied: mpmath<1.4,>=1.1.0 in /usr/local/lib/python3.11/dist-packages (from sympy==1.13.1->torch->pytorch-msssim) (1.3.0)\n",
            "Requirement already satisfied: MarkupSafe>=2.0 in /usr/local/lib/python3.11/dist-packages (from jinja2->torch->pytorch-msssim) (3.0.2)\n",
            "Downloading pytorch_msssim-1.0.0-py3-none-any.whl (7.7 kB)\n",
            "Installing collected packages: pytorch-msssim\n",
            "Successfully installed pytorch-msssim-1.0.0\n"
          ]
        }
      ]
    },
    {
      "cell_type": "code",
      "source": [
        "!python3 /content/D2GV/train_deform.py -h\n"
      ],
      "metadata": {
        "colab": {
          "base_uri": "https://localhost:8080/"
        },
        "id": "BIejuCGvBxaK",
        "outputId": "ea2864e8-a78c-43cd-f6b9-a1ed934822be"
      },
      "execution_count": 18,
      "outputs": [
        {
          "output_type": "stream",
          "name": "stdout",
          "text": [
            "usage: train_deform.py [-h] [-d DATASET] [--data_name DATA_NAME] [--iterations ITERATIONS]\n",
            "                       [--model_name MODEL_NAME] [--sh_degree SH_DEGREE] [--num_points NUM_POINTS]\n",
            "                       [--model_path MODEL_PATH] [--seed SEED] [--save_imgs] [--lr LR]\n",
            "\n",
            "Example training script.\n",
            "\n",
            "options:\n",
            "  -h, --help            show this help message and exit\n",
            "  -d DATASET, --dataset DATASET\n",
            "                        Training dataset\n",
            "  --data_name DATA_NAME\n",
            "                        Training dataset\n",
            "  --iterations ITERATIONS\n",
            "                        number of training epochs (default: 50000)\n",
            "  --model_name MODEL_NAME\n",
            "                        model selection: GaussianImage_Cholesky\n",
            "  --sh_degree SH_DEGREE\n",
            "                        SH degree (default: 3)\n",
            "  --num_points NUM_POINTS\n",
            "                        2D GS points (default: 50000)\n",
            "  --model_path MODEL_PATH\n",
            "                        Path to a checkpoint\n",
            "  --seed SEED           Set random seed for reproducibility\n",
            "  --save_imgs           Save image\n",
            "  --lr LR               Learning rate (default: 0.005)\n"
          ]
        }
      ]
    },
    {
      "cell_type": "code",
      "source": [
        "!python3 /content/D2GV/train_deform.py -d /content/D2GV/dataset/bunny/bunny_1/ --data_name bunny --iterations 50000 --model_name GaussianImage_Cholesky --lr 0.005\n"
      ],
      "metadata": {
        "colab": {
          "base_uri": "https://localhost:8080/"
        },
        "id": "eAN1qoAc-vw2",
        "outputId": "c40cfdec-c7fd-4b8a-9033-2041b590ce05"
      },
      "execution_count": 19,
      "outputs": [
        {
          "output_type": "stream",
          "name": "stdout",
          "text": [
            "Start coarse training!\n",
            "Training progress:  50% 4990/10000 [00:25<00:25, 194.68it/s, Loss=0.0027546, PSNR=25.5995,]Test Average PSNR:11.5842, MS_SSIM:0.086586\n",
            "Decode FPS: 113.27\n",
            "Decoding fps: 113.27231726913054\n",
            "Training progress: 100% 9990/10000 [00:54<00:00, 183.41it/s, Loss=0.0027379, PSNR=25.6259,]Test Average PSNR:11.6603, MS_SSIM:0.090430\n",
            "Decode FPS: 109.18\n",
            "Decoding fps: 109.18316399976051\n",
            "Training progress: 100% 10000/10000 [00:54<00:00, 182.74it/s, Loss=0.0027379, PSNR=25.6259,]\n",
            "Start fine training!\n",
            "Training progress:  10% 5000/50000 [01:59<18:18, 40.95it/s, Loss=0.0004001, PSNR=33.9788,]Test Average PSNR:33.8995, MS_SSIM:0.975013\n",
            "Decode FPS: 102.20\n",
            "Decoding fps: 102.20014083786346\n",
            "Training progress:  20% 10000/50000 [04:04<16:36, 40.12it/s, Loss=0.0003133, PSNR=35.0405,]Test Average PSNR:32.2529, MS_SSIM:0.961275\n",
            "Decode FPS: 102.52\n",
            "Decoding fps: 102.5226467209308\n",
            "Training progress:  30% 15000/50000 [06:09<14:36, 39.95it/s, Loss=0.0001748, PSNR=37.5743,]Test Average PSNR:37.5167, MS_SSIM:0.989887\n",
            "Decode FPS: 102.26\n",
            "Decoding fps: 102.26442972329163\n",
            "Training progress:  40% 20000/50000 [08:15<12:32, 39.85it/s, Loss=0.0001621, PSNR=37.9016,]Test Average PSNR:37.5797, MS_SSIM:0.990010\n",
            "Decode FPS: 101.24\n",
            "Decoding fps: 101.24272838308205\n",
            "Training progress:  50% 25000/50000 [10:22<10:42, 38.91it/s, Loss=0.0001434, PSNR=38.4359,]Test Average PSNR:38.2062, MS_SSIM:0.991636\n",
            "Decode FPS: 100.47\n",
            "Decoding fps: 100.46934996682404\n",
            "Training progress:  60% 30000/50000 [12:28<08:23, 39.71it/s, Loss=0.0001463, PSNR=38.3474,]Test Average PSNR:38.0862, MS_SSIM:0.991038\n",
            "Decode FPS: 101.92\n",
            "Decoding fps: 101.91505750226582\n",
            "Training progress:  70% 35000/50000 [14:35<06:19, 39.57it/s, Loss=0.0001383, PSNR=38.5922,]Test Average PSNR:38.5485, MS_SSIM:0.992497\n",
            "Decode FPS: 99.99\n",
            "Decoding fps: 99.98603062297224\n",
            "Training progress:  80% 40000/50000 [16:42<04:11, 39.72it/s, Loss=0.0001257, PSNR=39.0065,]Test Average PSNR:38.9030, MS_SSIM:0.993257\n",
            "Decode FPS: 100.69\n",
            "Decoding fps: 100.69052271734277\n",
            "Training progress:  90% 45000/50000 [18:49<02:07, 39.10it/s, Loss=0.0001225, PSNR=39.1188,]Test Average PSNR:38.9976, MS_SSIM:0.993471\n",
            "Decode FPS: 101.00\n",
            "Decoding fps: 101.00161099619285\n",
            "Training progress: 100% 50000/50000 [20:56<00:00, 39.59it/s, Loss=0.0001233, PSNR=39.0896,]Test Average PSNR:38.9826, MS_SSIM:0.993393\n",
            "Decode FPS: 97.90\n",
            "Decoding fps: 97.90442755504098\n",
            "Training progress: 100% 50000/50000 [20:57<00:00, 39.77it/s, Loss=0.0001233, PSNR=39.0896,]\n",
            "Segment: bunny, PSNR: 38.9826, SSIM: 0.993393\n"
          ]
        }
      ]
    },
    {
      "cell_type": "code",
      "source": [
        "!python3 /content/D2GV/train_deform.py -d /content/D2GV/dataset/bunny/bunny_1/ --data_name bunny --iterations 50000 --model_name GaussianImage_Cholesky --lr 0.005 --save_imgs\n"
      ],
      "metadata": {
        "colab": {
          "base_uri": "https://localhost:8080/"
        },
        "id": "zPohavVBIllG",
        "outputId": "f481ea12-bd9a-44e8-d4b1-39084902e007"
      },
      "execution_count": 21,
      "outputs": [
        {
          "output_type": "stream",
          "name": "stdout",
          "text": [
            "Start coarse training!\n",
            "Training progress:  50% 5000/10000 [00:25<00:25, 196.97it/s, Loss=0.0027538, PSNR=25.6007,]Test Average PSNR:11.5900, MS_SSIM:0.087470\n",
            "Decode FPS: 77.67\n",
            "Decoding fps: 77.67474161223593\n",
            "Training progress: 100% 10000/10000 [00:55<00:00, 182.95it/s, Loss=0.0027372, PSNR=25.6270,]Test Average PSNR:11.6707, MS_SSIM:0.091514\n",
            "Decode FPS: 78.08\n",
            "Decoding fps: 78.08353625390016\n",
            "Training progress: 100% 10000/10000 [00:59<00:00, 168.81it/s, Loss=0.0027372, PSNR=25.6270,]\n",
            "Start fine training!\n",
            "Training progress:  10% 5000/50000 [01:58<18:15, 41.08it/s, Loss=0.0003287, PSNR=34.8321,]Test Average PSNR:34.5097, MS_SSIM:0.977974\n",
            "Decode FPS: 74.09\n",
            "Decoding fps: 74.09292211267879\n",
            "Training progress:  20% 10000/50000 [04:07<16:35, 40.18it/s, Loss=0.0002575, PSNR=35.8920,]Test Average PSNR:35.8661, MS_SSIM:0.983393\n",
            "Decode FPS: 74.90\n",
            "Decoding fps: 74.90269962337067\n",
            "Training progress:  30% 15000/50000 [06:17<14:26, 40.40it/s, Loss=0.0002121, PSNR=36.7338,]Test Average PSNR:36.6801, MS_SSIM:0.987339\n",
            "Decode FPS: 72.45\n",
            "Decoding fps: 72.44623925216857\n",
            "Training progress:  40% 20000/50000 [08:27<12:45, 39.17it/s, Loss=0.0001587, PSNR=37.9956,]Test Average PSNR:37.9157, MS_SSIM:0.990806\n",
            "Decode FPS: 72.46\n",
            "Decoding fps: 72.45587577326444\n",
            "Training progress:  50% 25000/50000 [10:36<10:22, 40.17it/s, Loss=0.0001527, PSNR=38.1628,]Test Average PSNR:38.0646, MS_SSIM:0.991060\n",
            "Decode FPS: 68.32\n",
            "Decoding fps: 68.32148843391589\n",
            "Training progress:  60% 30000/50000 [12:47<08:28, 39.30it/s, Loss=0.0001392, PSNR=38.5649,]Test Average PSNR:38.2573, MS_SSIM:0.991620\n",
            "Decode FPS: 72.63\n",
            "Decoding fps: 72.63241380504616\n",
            "Training progress:  70% 35000/50000 [14:57<06:15, 39.97it/s, Loss=0.0001302, PSNR=38.8526,]Test Average PSNR:38.8053, MS_SSIM:0.992968\n",
            "Decode FPS: 70.32\n",
            "Decoding fps: 70.32337353356884\n",
            "Training progress:  80% 40000/50000 [17:08<04:12, 39.64it/s, Loss=0.0001374, PSNR=38.6187,]Test Average PSNR:38.8338, MS_SSIM:0.993073\n",
            "Decode FPS: 72.57\n",
            "Decoding fps: 72.57083535192747\n",
            "Training progress:  90% 45000/50000 [19:19<02:05, 39.87it/s, Loss=0.0001250, PSNR=39.0316,]Test Average PSNR:38.9593, MS_SSIM:0.993308\n",
            "Decode FPS: 72.38\n",
            "Decoding fps: 72.3843513406702\n",
            "Training progress: 100% 50000/50000 [21:30<00:00, 39.95it/s, Loss=0.0001227, PSNR=39.1101,]Test Average PSNR:39.0298, MS_SSIM:0.993458\n",
            "Decode FPS: 72.36\n",
            "Decoding fps: 72.36436977341621\n",
            "Training progress: 100% 50000/50000 [21:35<00:00, 38.59it/s, Loss=0.0001227, PSNR=39.1101,]\n",
            "Segment: bunny, PSNR: 39.0298, SSIM: 0.993458\n"
          ]
        }
      ]
    },
    {
      "cell_type": "code",
      "source": [
        "import torch\n",
        "\n",
        "# Save model function\n",
        "def save_checkpoint(model, optimizer, epoch, loss, save_path):\n",
        "    checkpoint = {\n",
        "        'epoch': epoch,\n",
        "        'model_state_dict': model.state_dict(),\n",
        "        'optimizer_state_dict': optimizer.state_dict(),\n",
        "        'loss': loss,\n",
        "    }\n",
        "    torch.save(checkpoint, save_path)\n",
        "\n",
        "# Example of saving the model after every N iterations\n",
        "if (epoch + 1) % SAVE_INTERVAL == 0:  # SAVE_INTERVAL can be set to the number of epochs you want\n",
        "    save_checkpoint(model, optimizer, epoch, loss, f'./checkpoints/model_epoch_{epoch + 1}.pth')\n"
      ],
      "metadata": {
        "colab": {
          "base_uri": "https://localhost:8080/",
          "height": 200
        },
        "id": "3DX6B8xNQQhm",
        "outputId": "c89e021a-4d69-4170-8219-2625d08604c7"
      },
      "execution_count": 22,
      "outputs": [
        {
          "output_type": "error",
          "ename": "NameError",
          "evalue": "name 'epoch' is not defined",
          "traceback": [
            "\u001b[0;31m---------------------------------------------------------------------------\u001b[0m",
            "\u001b[0;31mNameError\u001b[0m                                 Traceback (most recent call last)",
            "\u001b[0;32m<ipython-input-22-82e5c94eaa01>\u001b[0m in \u001b[0;36m<cell line: 0>\u001b[0;34m()\u001b[0m\n\u001b[1;32m     12\u001b[0m \u001b[0;34m\u001b[0m\u001b[0m\n\u001b[1;32m     13\u001b[0m \u001b[0;31m# Example of saving the model after every N iterations\u001b[0m\u001b[0;34m\u001b[0m\u001b[0;34m\u001b[0m\u001b[0m\n\u001b[0;32m---> 14\u001b[0;31m \u001b[0;32mif\u001b[0m \u001b[0;34m(\u001b[0m\u001b[0mepoch\u001b[0m \u001b[0;34m+\u001b[0m \u001b[0;36m1\u001b[0m\u001b[0;34m)\u001b[0m \u001b[0;34m%\u001b[0m \u001b[0mSAVE_INTERVAL\u001b[0m \u001b[0;34m==\u001b[0m \u001b[0;36m0\u001b[0m\u001b[0;34m:\u001b[0m  \u001b[0;31m# SAVE_INTERVAL can be set to the number of epochs you want\u001b[0m\u001b[0;34m\u001b[0m\u001b[0;34m\u001b[0m\u001b[0m\n\u001b[0m\u001b[1;32m     15\u001b[0m     \u001b[0msave_checkpoint\u001b[0m\u001b[0;34m(\u001b[0m\u001b[0mmodel\u001b[0m\u001b[0;34m,\u001b[0m \u001b[0moptimizer\u001b[0m\u001b[0;34m,\u001b[0m \u001b[0mepoch\u001b[0m\u001b[0;34m,\u001b[0m \u001b[0mloss\u001b[0m\u001b[0;34m,\u001b[0m \u001b[0;34mf'./checkpoints/model_epoch_{epoch + 1}.pth'\u001b[0m\u001b[0;34m)\u001b[0m\u001b[0;34m\u001b[0m\u001b[0;34m\u001b[0m\u001b[0m\n",
            "\u001b[0;31mNameError\u001b[0m: name 'epoch' is not defined"
          ]
        }
      ]
    },
    {
      "cell_type": "code",
      "source": [
        "import cv2\n",
        "import matplotlib.pyplot as plt\n",
        "\n",
        "# Load a ground truth and reconstructed frame\n",
        "ground_truth_frame = cv2.imread('/content/D2GV/dataset/bunny/bunny_1/f00001.png')\n",
        "reconstructed_frame = cv2.imread('path_to_reconstructed_frame.png')  # Replace with the correct path to a reconstructed frame\n",
        "\n",
        "# Convert BGR to RGB\n",
        "ground_truth_frame = cv2.cvtColor(ground_truth_frame, cv2.COLOR_BGR2RGB)\n",
        "reconstructed_frame = cv2.cvtColor(reconstructed_frame, cv2.COLOR_BGR2RGB)\n",
        "\n",
        "# Plot them side by side\n",
        "plt.figure(figsize=(12, 6))\n",
        "plt.subplot(1, 2, 1)\n",
        "plt.imshow(ground_truth_frame)\n",
        "plt.title('Ground Truth')\n",
        "plt.axis('off')\n",
        "\n",
        "plt.subplot(1, 2, 2)\n",
        "plt.imshow(reconstructed_frame)\n",
        "plt.title('Reconstructed Frame')\n",
        "plt.axis('off')\n",
        "\n",
        "plt.show()\n"
      ],
      "metadata": {
        "id": "u7ZqSNqnBfyr"
      },
      "execution_count": null,
      "outputs": []
    },
    {
      "cell_type": "code",
      "source": [],
      "metadata": {
        "id": "VDzjNUq1AUjU"
      },
      "execution_count": null,
      "outputs": []
    }
  ]
}